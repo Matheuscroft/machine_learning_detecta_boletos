{
 "cells": [
  {
   "cell_type": "markdown",
   "id": "bbd6d29f",
   "metadata": {},
   "source": [
    "# **Predição de Boletos - Verdadeiros ou Falsos**\n",
    "\n",
    "## **Contextualização**\n",
    "\n",
    "O objetivo deste projeto é desenvolver um modelo de machine learning capaz de prever se um boleto bancário é verdadeiro ou falso, com base em suas características principais.\n",
    "\n",
    "### **Motivação**\n",
    "Boletos falsos representam um risco financeiro tanto para consumidores quanto para empresas. Um modelo automático de verificação pode agilizar processos de segurança, reduzir fraudes e melhorar a experiência dos usuários.\n",
    "\n",
    "### **Descrição dos Dados**\n",
    "O conjunto de dados (`completos.json`) contém informações extraídas dos boletos, como:\n",
    "- Banco emissor\n",
    "- Código do banco\n",
    "- Agência\n",
    "- Valor\n",
    "- Linha digitável (informações de pagamento)\n",
    "\n",
    "Esses dados serão pré-processados para extrair variáveis relevantes para o modelo.\n",
    "\n",
    "### **Metodologia**\n",
    "- **Pré-processamento:** Limpeza dos dados e extração de variáveis úteis da linha digitável.\n",
    "- **Transformação:** Conversão de variáveis categóricas para valores numéricos.\n",
    "- **Treinamento:** Utilizaremos um modelo de **Random Forest Classifier**, conhecido por sua robustez em dados tabulares.\n",
    "- **Avaliação:** Mediremos a acurácia e o desempenho geral em um conjunto de teste.\n",
    "- **Aplicação:** Salvaremos o modelo para utilizar em uma aplicação interativa feita com **Streamlit**, permitindo predizer novos boletos em tempo real.\n",
    "\n"
   ]
  },
  {
   "cell_type": "markdown",
   "id": "79ee65a7",
   "metadata": {},
   "source": [
    "## 1. Importação de Bibliotecas\n",
    "Importamos as bibliotecas necessárias para manipular os dados e treinar o modelo."
   ]
  },
  {
   "cell_type": "code",
   "execution_count": 31,
   "id": "984ce1f6",
   "metadata": {},
   "outputs": [],
   "source": [
    "import pandas as pd\n",
    "import json\n",
    "from sklearn.model_selection import train_test_split\n",
    "from sklearn.ensemble import RandomForestClassifier\n",
    "from sklearn.metrics import accuracy_score, classification_report\n",
    "from lazypredict.Supervised import LazyClassifier\n"
   ]
  },
  {
   "cell_type": "markdown",
   "id": "dcdce8d6",
   "metadata": {},
   "source": [
    "## 2. Carregamento dos Dados\n",
    "Carregamos o arquivo completos.json, que contém os dados dos boletos."
   ]
  },
  {
   "cell_type": "code",
   "execution_count": 32,
   "id": "67735429",
   "metadata": {},
   "outputs": [
    {
     "data": {
      "text/html": [
       "<div>\n",
       "<style scoped>\n",
       "    .dataframe tbody tr th:only-of-type {\n",
       "        vertical-align: middle;\n",
       "    }\n",
       "\n",
       "    .dataframe tbody tr th {\n",
       "        vertical-align: top;\n",
       "    }\n",
       "\n",
       "    .dataframe thead th {\n",
       "        text-align: right;\n",
       "    }\n",
       "</style>\n",
       "<table border=\"1\" class=\"dataframe\">\n",
       "  <thead>\n",
       "    <tr style=\"text-align: right;\">\n",
       "      <th></th>\n",
       "      <th>banco</th>\n",
       "      <th>codigoBanco</th>\n",
       "      <th>agencia</th>\n",
       "      <th>valor</th>\n",
       "      <th>linhaDigitavel</th>\n",
       "      <th>classe</th>\n",
       "    </tr>\n",
       "  </thead>\n",
       "  <tbody>\n",
       "    <tr>\n",
       "      <th>0</th>\n",
       "      <td>Itaú</td>\n",
       "      <td>341</td>\n",
       "      <td>0773</td>\n",
       "      <td>890.00</td>\n",
       "      <td>34190.00000 00000.000000 00000.000000 0 000000...</td>\n",
       "      <td>caracteristicasVerdadeiras</td>\n",
       "    </tr>\n",
       "    <tr>\n",
       "      <th>1</th>\n",
       "      <td>Itaú</td>\n",
       "      <td>341</td>\n",
       "      <td>0773</td>\n",
       "      <td>467.00</td>\n",
       "      <td>34190.00000 00000.000000 00000.000000 0 000000...</td>\n",
       "      <td>caracteristicasVerdadeiras</td>\n",
       "    </tr>\n",
       "    <tr>\n",
       "      <th>2</th>\n",
       "      <td>Itaú</td>\n",
       "      <td>341</td>\n",
       "      <td>0773</td>\n",
       "      <td>230.00</td>\n",
       "      <td>34190.00000 00000.000000 00000.000000 0 000000...</td>\n",
       "      <td>caracteristicasVerdadeiras</td>\n",
       "    </tr>\n",
       "    <tr>\n",
       "      <th>3</th>\n",
       "      <td>Itaú</td>\n",
       "      <td>341</td>\n",
       "      <td>0773</td>\n",
       "      <td>986.00</td>\n",
       "      <td>34190.00000 00000.000000 00000.000000 0 000000...</td>\n",
       "      <td>caracteristicasVerdadeiras</td>\n",
       "    </tr>\n",
       "    <tr>\n",
       "      <th>4</th>\n",
       "      <td>Itaú</td>\n",
       "      <td>341</td>\n",
       "      <td>0773</td>\n",
       "      <td>766.00</td>\n",
       "      <td>34190.00000 00000.000000 00000.000000 0 000000...</td>\n",
       "      <td>caracteristicasVerdadeiras</td>\n",
       "    </tr>\n",
       "  </tbody>\n",
       "</table>\n",
       "</div>"
      ],
      "text/plain": [
       "  banco codigoBanco agencia   valor  \\\n",
       "0  Itaú         341    0773  890.00   \n",
       "1  Itaú         341    0773  467.00   \n",
       "2  Itaú         341    0773  230.00   \n",
       "3  Itaú         341    0773  986.00   \n",
       "4  Itaú         341    0773  766.00   \n",
       "\n",
       "                                      linhaDigitavel  \\\n",
       "0  34190.00000 00000.000000 00000.000000 0 000000...   \n",
       "1  34190.00000 00000.000000 00000.000000 0 000000...   \n",
       "2  34190.00000 00000.000000 00000.000000 0 000000...   \n",
       "3  34190.00000 00000.000000 00000.000000 0 000000...   \n",
       "4  34190.00000 00000.000000 00000.000000 0 000000...   \n",
       "\n",
       "                       classe  \n",
       "0  caracteristicasVerdadeiras  \n",
       "1  caracteristicasVerdadeiras  \n",
       "2  caracteristicasVerdadeiras  \n",
       "3  caracteristicasVerdadeiras  \n",
       "4  caracteristicasVerdadeiras  "
      ]
     },
     "execution_count": 32,
     "metadata": {},
     "output_type": "execute_result"
    }
   ],
   "source": [
    "with open(\"completos.json\", \"r\", encoding=\"utf-8\") as f:\n",
    "    dados = json.load(f)\n",
    "\n",
    "df = pd.DataFrame(dados)\n",
    "df.head()"
   ]
  },
  {
   "cell_type": "markdown",
   "id": "f43ec954",
   "metadata": {},
   "source": [
    "## 3. Pré-processamento dos Dados\n",
    "Realizamos o tratamento da coluna linhaDigitavel para extrair informações relevantes."
   ]
  },
  {
   "cell_type": "code",
   "execution_count": 33,
   "id": "087ff626",
   "metadata": {},
   "outputs": [
    {
     "data": {
      "text/html": [
       "<div>\n",
       "<style scoped>\n",
       "    .dataframe tbody tr th:only-of-type {\n",
       "        vertical-align: middle;\n",
       "    }\n",
       "\n",
       "    .dataframe tbody tr th {\n",
       "        vertical-align: top;\n",
       "    }\n",
       "\n",
       "    .dataframe thead th {\n",
       "        text-align: right;\n",
       "    }\n",
       "</style>\n",
       "<table border=\"1\" class=\"dataframe\">\n",
       "  <thead>\n",
       "    <tr style=\"text-align: right;\">\n",
       "      <th></th>\n",
       "      <th>banco</th>\n",
       "      <th>codigoBanco</th>\n",
       "      <th>agencia</th>\n",
       "      <th>valor</th>\n",
       "      <th>classe</th>\n",
       "      <th>linha_codBanco</th>\n",
       "      <th>linha_moeda</th>\n",
       "      <th>linha_valor</th>\n",
       "    </tr>\n",
       "  </thead>\n",
       "  <tbody>\n",
       "    <tr>\n",
       "      <th>0</th>\n",
       "      <td>Itaú</td>\n",
       "      <td>341</td>\n",
       "      <td>0773</td>\n",
       "      <td>890.00</td>\n",
       "      <td>caracteristicasVerdadeiras</td>\n",
       "      <td>341</td>\n",
       "      <td>9</td>\n",
       "      <td>0000089000</td>\n",
       "    </tr>\n",
       "    <tr>\n",
       "      <th>1</th>\n",
       "      <td>Itaú</td>\n",
       "      <td>341</td>\n",
       "      <td>0773</td>\n",
       "      <td>467.00</td>\n",
       "      <td>caracteristicasVerdadeiras</td>\n",
       "      <td>341</td>\n",
       "      <td>9</td>\n",
       "      <td>0000046700</td>\n",
       "    </tr>\n",
       "    <tr>\n",
       "      <th>2</th>\n",
       "      <td>Itaú</td>\n",
       "      <td>341</td>\n",
       "      <td>0773</td>\n",
       "      <td>230.00</td>\n",
       "      <td>caracteristicasVerdadeiras</td>\n",
       "      <td>341</td>\n",
       "      <td>9</td>\n",
       "      <td>0000023000</td>\n",
       "    </tr>\n",
       "    <tr>\n",
       "      <th>3</th>\n",
       "      <td>Itaú</td>\n",
       "      <td>341</td>\n",
       "      <td>0773</td>\n",
       "      <td>986.00</td>\n",
       "      <td>caracteristicasVerdadeiras</td>\n",
       "      <td>341</td>\n",
       "      <td>9</td>\n",
       "      <td>0000098600</td>\n",
       "    </tr>\n",
       "    <tr>\n",
       "      <th>4</th>\n",
       "      <td>Itaú</td>\n",
       "      <td>341</td>\n",
       "      <td>0773</td>\n",
       "      <td>766.00</td>\n",
       "      <td>caracteristicasVerdadeiras</td>\n",
       "      <td>341</td>\n",
       "      <td>9</td>\n",
       "      <td>0000076600</td>\n",
       "    </tr>\n",
       "  </tbody>\n",
       "</table>\n",
       "</div>"
      ],
      "text/plain": [
       "  banco codigoBanco agencia   valor                      classe  \\\n",
       "0  Itaú         341    0773  890.00  caracteristicasVerdadeiras   \n",
       "1  Itaú         341    0773  467.00  caracteristicasVerdadeiras   \n",
       "2  Itaú         341    0773  230.00  caracteristicasVerdadeiras   \n",
       "3  Itaú         341    0773  986.00  caracteristicasVerdadeiras   \n",
       "4  Itaú         341    0773  766.00  caracteristicasVerdadeiras   \n",
       "\n",
       "  linha_codBanco linha_moeda linha_valor  \n",
       "0            341           9  0000089000  \n",
       "1            341           9  0000046700  \n",
       "2            341           9  0000023000  \n",
       "3            341           9  0000098600  \n",
       "4            341           9  0000076600  "
      ]
     },
     "execution_count": 33,
     "metadata": {},
     "output_type": "execute_result"
    }
   ],
   "source": [
    "df['linhaDigitavel'] = df['linhaDigitavel'].str.replace(\" \", \"\").astype(str)\n",
    "df['linha_codBanco'] = df['linhaDigitavel'].str.slice(0, 3)\n",
    "df['linha_moeda'] = df['linhaDigitavel'].str.slice(3, 4)\n",
    "df['linha_valor'] = df['linhaDigitavel'].str.slice(-10)\n",
    "\n",
    "df.drop(columns=['linhaDigitavel'], inplace=True)\n",
    "df.head()"
   ]
  },
  {
   "cell_type": "markdown",
   "id": "29aecc3b",
   "metadata": {},
   "source": [
    "## 4. Transformação da Coluna Alvo\n",
    "Transformamos as classes textuais em valores numéricos para o modelo poder trabalhar."
   ]
  },
  {
   "cell_type": "code",
   "execution_count": 34,
   "id": "b4c6cdc8",
   "metadata": {},
   "outputs": [],
   "source": [
    "df['classe'] = df['classe'].map({\n",
    "    \"caracteristicasVerdadeiras\": 1,\n",
    "    \"caracteristicasFalsas\": 0\n",
    "})\n"
   ]
  },
  {
   "cell_type": "markdown",
   "id": "56a97f62",
   "metadata": {},
   "source": [
    "## 5. Codificação da Coluna 'banco'\n",
    "Convertendo os nomes dos bancos em números, pois o modelo só entende dados numéricos."
   ]
  },
  {
   "cell_type": "code",
   "execution_count": 35,
   "id": "12207f2f",
   "metadata": {},
   "outputs": [],
   "source": [
    "df['banco'] = df['banco'].map({\n",
    "    \"Banco do Brasil\": 0,\n",
    "    \"Itaú\": 1,\n",
    "    \"Bradesco\": 2,\n",
    "    \"Santander\": 3,\n",
    "    \"Caixa Econômica\": 4,\n",
    "})"
   ]
  },
  {
   "cell_type": "markdown",
   "id": "83a71815",
   "metadata": {},
   "source": [
    "## 6. Separação de Variáveis\n",
    "Definimos X como as variáveis independentes (features) e y como a variável alvo (classe)."
   ]
  },
  {
   "cell_type": "code",
   "execution_count": 36,
   "id": "5453b63f",
   "metadata": {},
   "outputs": [],
   "source": [
    "X = df.drop(columns=['classe'])\n",
    "y = df['classe']"
   ]
  },
  {
   "cell_type": "markdown",
   "id": "2eeebd14",
   "metadata": {},
   "source": [
    "## 7. Divisão em Treino e Teste, Treinamento e Avaliação do Modelo\n",
    "Dividimos os dados em conjunto de treino (80%) e teste (20%) para avaliar o desempenho do modelo. Treinamos o modelo usando o algoritmo Random Forest Classifier. Calculamos a acurácia e mostramos um relatório detalhado da performance do modelo."
   ]
  },
  {
   "cell_type": "code",
   "execution_count": 60,
   "id": "572b1491",
   "metadata": {},
   "outputs": [
    {
     "name": "stdout",
     "output_type": "stream",
     "text": [
      "Acurácia: 0.81\n",
      "              precision    recall  f1-score   support\n",
      "\n",
      "           0       0.91      0.72      0.80        54\n",
      "           1       0.74      0.91      0.82        46\n",
      "\n",
      "    accuracy                           0.81       100\n",
      "   macro avg       0.82      0.82      0.81       100\n",
      "weighted avg       0.83      0.81      0.81       100\n",
      "\n"
     ]
    }
   ],
   "source": [
    "X_train, X_test, y_train, y_test = train_test_split(X, y, test_size=0.2, random_state=42)\n",
    "\n",
    "model = RandomForestClassifier()\n",
    "model.fit(X_train, y_train)\n",
    "\n",
    "y_pred = model.predict(X_test)\n",
    "print(\"Acurácia:\", accuracy_score(y_test, y_pred))\n",
    "print(classification_report(y_test, y_pred))"
   ]
  },
  {
   "cell_type": "code",
   "execution_count": 37,
   "id": "702fcd4b",
   "metadata": {},
   "outputs": [],
   "source": [
    "X_train, X_test, y_train, y_test = train_test_split(X, y, test_size=0.2, random_state=42)\n",
    "\n",
    "\n"
   ]
  },
  {
   "cell_type": "code",
   "execution_count": 19,
   "id": "c3c9bbaa",
   "metadata": {},
   "outputs": [],
   "source": [
    "from lazypredict.Supervised import CLASSIFIERS"
   ]
  },
  {
   "cell_type": "code",
   "execution_count": 38,
   "id": "f4d2db8d",
   "metadata": {},
   "outputs": [
    {
     "name": "stdout",
     "output_type": "stream",
     "text": [
      "[('AdaBoostClassifier', <class 'sklearn.ensemble._weight_boosting.AdaBoostClassifier'>), ('BaggingClassifier', <class 'sklearn.ensemble._bagging.BaggingClassifier'>), ('BernoulliNB', <class 'sklearn.naive_bayes.BernoulliNB'>), ('CalibratedClassifierCV', <class 'sklearn.calibration.CalibratedClassifierCV'>), ('CategoricalNB', <class 'sklearn.naive_bayes.CategoricalNB'>), ('DecisionTreeClassifier', <class 'sklearn.tree._classes.DecisionTreeClassifier'>), ('DummyClassifier', <class 'sklearn.dummy.DummyClassifier'>), ('ExtraTreeClassifier', <class 'sklearn.tree._classes.ExtraTreeClassifier'>), ('ExtraTreesClassifier', <class 'sklearn.ensemble._forest.ExtraTreesClassifier'>), ('FixedThresholdClassifier', <class 'sklearn.model_selection._classification_threshold.FixedThresholdClassifier'>), ('GaussianNB', <class 'sklearn.naive_bayes.GaussianNB'>), ('KNeighborsClassifier', <class 'sklearn.neighbors._classification.KNeighborsClassifier'>), ('LGBMClassifier', <class 'lightgbm.sklearn.LGBMClassifier'>), ('LabelPropagation', <class 'sklearn.semi_supervised._label_propagation.LabelPropagation'>), ('LabelSpreading', <class 'sklearn.semi_supervised._label_propagation.LabelSpreading'>), ('LinearDiscriminantAnalysis', <class 'sklearn.discriminant_analysis.LinearDiscriminantAnalysis'>), ('LinearSVC', <class 'sklearn.svm._classes.LinearSVC'>), ('LogisticRegression', <class 'sklearn.linear_model._logistic.LogisticRegression'>), ('NearestCentroid', <class 'sklearn.neighbors._nearest_centroid.NearestCentroid'>), ('NuSVC', <class 'sklearn.svm._classes.NuSVC'>), ('PassiveAggressiveClassifier', <class 'sklearn.linear_model._passive_aggressive.PassiveAggressiveClassifier'>), ('Perceptron', <class 'sklearn.linear_model._perceptron.Perceptron'>), ('QuadraticDiscriminantAnalysis', <class 'sklearn.discriminant_analysis.QuadraticDiscriminantAnalysis'>), ('RandomForestClassifier', <class 'sklearn.ensemble._forest.RandomForestClassifier'>), ('RidgeClassifier', <class 'sklearn.linear_model._ridge.RidgeClassifier'>), ('RidgeClassifierCV', <class 'sklearn.linear_model._ridge.RidgeClassifierCV'>), ('SGDClassifier', <class 'sklearn.linear_model._stochastic_gradient.SGDClassifier'>), ('SVC', <class 'sklearn.svm._classes.SVC'>), ('SelfTrainingClassifier', <class 'sklearn.semi_supervised._self_training.SelfTrainingClassifier'>), ('StackingClassifier', <class 'sklearn.ensemble._stacking.StackingClassifier'>), ('TunedThresholdClassifierCV', <class 'sklearn.model_selection._classification_threshold.TunedThresholdClassifierCV'>), ('XGBClassifier', <class 'xgboost.sklearn.XGBClassifier'>)]\n"
     ]
    }
   ],
   "source": [
    "lista_modelos = print(sorted(CLASSIFIERS))\n"
   ]
  },
  {
   "cell_type": "code",
   "execution_count": 50,
   "id": "ec80e9d9",
   "metadata": {},
   "outputs": [],
   "source": [
    "from sklearn.linear_model import LogisticRegression\n",
    "from sklearn.naive_bayes import GaussianNB\n",
    "from sklearn.tree import DecisionTreeClassifier\n",
    "from sklearn.metrics import classification_report, confusion_matrix, ConfusionMatrixDisplay\n",
    "import matplotlib.pyplot as plt"
   ]
  },
  {
   "cell_type": "code",
   "execution_count": 51,
   "id": "ded62b3f",
   "metadata": {},
   "outputs": [],
   "source": [
    "custom_models = {\n",
    "    \"Logistic Regression\": LogisticRegression(max_iter=1000),\n",
    "    \"Naive Bayes\": GaussianNB(),\n",
    "    \"Decision Tree\": DecisionTreeClassifier()\n",
    "}"
   ]
  },
  {
   "cell_type": "code",
   "execution_count": 52,
   "id": "c218c17c",
   "metadata": {},
   "outputs": [
    {
     "name": "stdout",
     "output_type": "stream",
     "text": [
      "\n",
      "🔎 Avaliando modelo: Logistic Regression\n",
      "\n",
      "📄 Classification Report:\n",
      "              precision    recall  f1-score   support\n",
      "\n",
      "           0       0.86      0.57      0.69        54\n",
      "           1       0.64      0.89      0.75        46\n",
      "\n",
      "    accuracy                           0.72       100\n",
      "   macro avg       0.75      0.73      0.72       100\n",
      "weighted avg       0.76      0.72      0.71       100\n",
      "\n"
     ]
    },
    {
     "data": {
      "image/png": "[encoded data removed]",
      "text/plain": [
       "<Figure size 640x480 with 2 Axes>"
      ]
     },
     "metadata": {},
     "output_type": "display_data"
    },
    {
     "name": "stdout",
     "output_type": "stream",
     "text": [
      "\n",
      "🔎 Avaliando modelo: Naive Bayes\n",
      "\n",
      "📄 Classification Report:\n",
      "              precision    recall  f1-score   support\n",
      "\n",
      "           0       1.00      0.15      0.26        54\n",
      "           1       0.50      1.00      0.67        46\n",
      "\n",
      "    accuracy                           0.54       100\n",
      "   macro avg       0.75      0.57      0.46       100\n",
      "weighted avg       0.77      0.54      0.45       100\n",
      "\n"
     ]
    },
    {
     "data": {
      "image/png": "[encoded data removed]",
      "text/plain": [
       "<Figure size 640x480 with 2 Axes>"
      ]
     },
     "metadata": {},
     "output_type": "display_data"
    },
    {
     "name": "stdout",
     "output_type": "stream",
     "text": [
      "\n",
      "🔎 Avaliando modelo: Decision Tree\n",
      "\n",
      "📄 Classification Report:\n",
      "              precision    recall  f1-score   support\n",
      "\n",
      "           0       0.85      0.74      0.79        54\n",
      "           1       0.74      0.85      0.79        46\n",
      "\n",
      "    accuracy                           0.79       100\n",
      "   macro avg       0.79      0.79      0.79       100\n",
      "weighted avg       0.80      0.79      0.79       100\n",
      "\n"
     ]
    },
    {
     "data": {
      "image/png": "[encoded data removed]",
      "text/plain": [
       "<Figure size 640x480 with 2 Axes>"
      ]
     },
     "metadata": {},
     "output_type": "display_data"
    }
   ],
   "source": [
    "for nome, modelo in custom_models.items():\n",
    "    print(f\"\\n🔎 Avaliando modelo: {nome}\")\n",
    "\n",
    "    modelo.fit(X_train, y_train)\n",
    "    y_pred = modelo.predict(X_test)\n",
    "\n",
    "    # Relatório de classificação\n",
    "    print(\"\\n📄 Classification Report:\")\n",
    "    print(classification_report(y_test, y_pred))\n",
    "\n",
    "    # Matriz de confusão\n",
    "    cm = confusion_matrix(y_test, y_pred)\n",
    "    disp = ConfusionMatrixDisplay(confusion_matrix=cm)\n",
    "    disp.plot()\n",
    "    plt.title(f\"Matriz de Confusão - {nome}\")\n",
    "    plt.show()"
   ]
  },
  {
   "cell_type": "code",
   "execution_count": 43,
   "id": "c31cf9b6",
   "metadata": {},
   "outputs": [
    {
     "ename": "TypeError",
     "evalue": "LazyClassifier.__init__() got an unexpected keyword argument 'custom_dict'",
     "output_type": "error",
     "traceback": [
      "\u001b[31m---------------------------------------------------------------------------\u001b[39m",
      "\u001b[31mTypeError\u001b[39m                                 Traceback (most recent call last)",
      "\u001b[36mCell\u001b[39m\u001b[36m \u001b[39m\u001b[32mIn[43]\u001b[39m\u001b[32m, line 1\u001b[39m\n\u001b[32m----> \u001b[39m\u001b[32m1\u001b[39m clf = \u001b[43mLazyClassifier\u001b[49m\u001b[43m(\u001b[49m\u001b[43mcustom_dict\u001b[49m\u001b[43m=\u001b[49m\u001b[43mcustom_models\u001b[49m\u001b[43m,\u001b[49m\u001b[43m \u001b[49m\u001b[43mverbose\u001b[49m\u001b[43m=\u001b[49m\u001b[32;43m0\u001b[39;49m\u001b[43m \u001b[49m\u001b[43m)\u001b[49m\u001b[38;5;66;03m#, ignore_warnings=True, custom_metric=None)\u001b[39;00m\n\u001b[32m      2\u001b[39m models, predictions = clf.fit(X_train, X_test, y_train, y_test)\n\u001b[32m      5\u001b[39m \u001b[38;5;28mprint\u001b[39m(models)\n",
      "\u001b[31mTypeError\u001b[39m: LazyClassifier.__init__() got an unexpected keyword argument 'custom_dict'"
     ]
    }
   ],
   "source": [
    "clf = LazyClassifier(custom_dict=custom_models, verbose=0 )#, ignore_warnings=True, custom_metric=None)\n",
    "models, predictions = clf.fit(X_train, X_test, y_train, y_test)\n",
    "\n",
    "\n",
    "print(models)"
   ]
  },
  {
   "cell_type": "markdown",
   "id": "9e118e11",
   "metadata": {},
   "source": [
    "## 8. Salvando o Modelo\n",
    "Salvamos o modelo treinado usando a biblioteca pickle para ser usado depois no Streamlit."
   ]
  },
  {
   "cell_type": "code",
   "execution_count": 61,
   "id": "1603e6e8",
   "metadata": {},
   "outputs": [],
   "source": [
    "import pickle\n",
    "with open('modelo_boleto.pkl', 'wb') as f:\n",
    "    pickle.dump(model, f)\n"
   ]
  },
  {
   "cell_type": "markdown",
   "id": "8478cd85",
   "metadata": {},
   "source": [
    "Aqui apenas visualizamos as colunas do DataFrame e o conteúdo de uma linha para testes futuros."
   ]
  },
  {
   "cell_type": "code",
   "execution_count": 62,
   "id": "e26c2381",
   "metadata": {},
   "outputs": [
    {
     "data": {
      "text/plain": [
       "banco                      1\n",
       "codigoBanco              341\n",
       "agencia                 0773\n",
       "valor                 890.00\n",
       "classe                     1\n",
       "linha_codBanco           341\n",
       "linha_moeda                9\n",
       "linha_valor       0000089000\n",
       "Name: 0, dtype: object"
      ]
     },
     "execution_count": 62,
     "metadata": {},
     "output_type": "execute_result"
    }
   ],
   "source": [
    "df.columns\n",
    "df.iloc[0]"
   ]
  },
  {
   "cell_type": "markdown",
   "id": "69333a36",
   "metadata": {},
   "source": [
    "## 9. Aplicação com Streamlit\n",
    "### Carregando o Modelo Salvo\n",
    "Carregamos o modelo treinado para fazer predições em novos dados.\n",
    "Definimos o título que será exibido na página Streamlit.\n",
    "Criamos um exemplo de dado para realizar a predição usando o modelo carregado."
   ]
  },
  {
   "cell_type": "code",
   "execution_count": 63,
   "id": "3fc366c7",
   "metadata": {},
   "outputs": [
    {
     "name": "stderr",
     "output_type": "stream",
     "text": [
      "2025-04-27 16:00:09.373 Thread 'MainThread': missing ScriptRunContext! This warning can be ignored when running in bare mode.\n",
      "2025-04-27 16:00:09.375 Thread 'MainThread': missing ScriptRunContext! This warning can be ignored when running in bare mode.\n"
     ]
    }
   ],
   "source": [
    "import streamlit as st\n",
    "\n",
    "model = pickle.load(open('modelo_boleto.pkl', 'rb'))\n",
    "\n",
    "st.title(\"Dataset Boleto - Predição de Verdadeiro ou Falso\")\n",
    "\n",
    "dado_teste = pd.DataFrame({'banco': [1.0], 'codigoBanco': [341],'agencia': [773], 'valor': [890.00], 'linha_codBanco': [341], 'linha_moeda': [9], 'linha_valor': [89000]})\n"
   ]
  },
  {
   "cell_type": "markdown",
   "id": "b9eeba88",
   "metadata": {},
   "source": [
    "### Resultado da Predição\n",
    "Realizamos a predição e exibimos o resultado."
   ]
  },
  {
   "cell_type": "code",
   "execution_count": 64,
   "id": "c1c4d204",
   "metadata": {},
   "outputs": [
    {
     "name": "stdout",
     "output_type": "stream",
     "text": [
      "Resultado da predição para o dado teste: Verdadeiro\n"
     ]
    }
   ],
   "source": [
    "pred = model.predict(dado_teste)\n",
    "\n",
    "resultado = 'Verdadeiro' if pred[0] == 1 else 'Falso'\n",
    "print(f\"Resultado da predição para o dado teste: {resultado}\")"
   ]
  }
 ],
 "metadata": {
  "kernelspec": {
   "display_name": "venv",
   "language": "python",
   "name": "python3"
  },
  "language_info": {
   "codemirror_mode": {
    "name": "ipython",
    "version": 3
   },
   "file_extension": ".py",
   "mimetype": "text/x-python",
   "name": "python",
   "nbconvert_exporter": "python",
   "pygments_lexer": "ipython3",
   "version": "3.12.4"
  }
 },
 "nbformat": 4,
 "nbformat_minor": 5
}
