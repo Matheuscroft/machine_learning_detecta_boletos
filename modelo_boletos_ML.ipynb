{
 "cells": [
  {
   "cell_type": "markdown",
   "id": "bbd6d29f",
   "metadata": {},
   "source": [
    "# **Predição de Boletos - Verdadeiros ou Falsos**\n",
    "\n",
    "## **Contextualização**\n",
    "\n",
    "O objetivo deste projeto é desenvolver um modelo de machine learning capaz de prever se um boleto bancário é verdadeiro ou falso, com base em suas características principais.\n",
    "\n",
    "### **Motivação**\n",
    "Boletos falsos representam um risco financeiro tanto para consumidores quanto para empresas. Um modelo automático de verificação pode agilizar processos de segurança, reduzir fraudes e melhorar a experiência dos usuários.\n",
    "\n",
    "### **Descrição dos Dados**\n",
    "O conjunto de dados (`completos.json`) contém informações extraídas dos boletos, como:\n",
    "- Banco emissor\n",
    "- Código do banco\n",
    "- Agência\n",
    "- Valor\n",
    "- Linha digitável (informações de pagamento)\n",
    "\n",
    "Esses dados serão pré-processados para extrair variáveis relevantes para o modelo.\n",
    "\n",
    "### **Metodologia**\n",
    "- **Pré-processamento:** Limpeza dos dados e extração de variáveis úteis da linha digitável.\n",
    "- **Transformação:** Conversão de variáveis categóricas para valores numéricos.\n",
    "- **Treinamento:** Utilizaremos um modelo de **Random Forest Classifier**, conhecido por sua robustez em dados tabulares.\n",
    "- **Avaliação:** Mediremos a acurácia e o desempenho geral em um conjunto de teste.\n",
    "- **Aplicação:** Salvaremos o modelo para utilizar em uma aplicação interativa feita com **Streamlit**, permitindo predizer novos boletos em tempo real.\n",
    "\n"
   ]
  },
  {
   "cell_type": "markdown",
   "id": "79ee65a7",
   "metadata": {},
   "source": [
    "## 1. Importação de Bibliotecas\n",
    "Importamos as bibliotecas necessárias para manipular os dados e treinar o modelo."
   ]
  },
  {
   "cell_type": "code",
   "execution_count": 54,
   "id": "984ce1f6",
   "metadata": {},
   "outputs": [],
   "source": [
    "import pandas as pd\n",
    "import json\n",
    "from sklearn.model_selection import train_test_split\n",
    "from sklearn.ensemble import RandomForestClassifier\n",
    "from sklearn.metrics import accuracy_score, classification_report\n"
   ]
  },
  {
   "cell_type": "markdown",
   "id": "dcdce8d6",
   "metadata": {},
   "source": [
    "## 2. Carregamento dos Dados\n",
    "Carregamos o arquivo completos.json, que contém os dados dos boletos."
   ]
  },
  {
   "cell_type": "code",
   "execution_count": 55,
   "id": "67735429",
   "metadata": {},
   "outputs": [
    {
     "data": {
      "text/html": [
       "<div>\n",
       "<style scoped>\n",
       "    .dataframe tbody tr th:only-of-type {\n",
       "        vertical-align: middle;\n",
       "    }\n",
       "\n",
       "    .dataframe tbody tr th {\n",
       "        vertical-align: top;\n",
       "    }\n",
       "\n",
       "    .dataframe thead th {\n",
       "        text-align: right;\n",
       "    }\n",
       "</style>\n",
       "<table border=\"1\" class=\"dataframe\">\n",
       "  <thead>\n",
       "    <tr style=\"text-align: right;\">\n",
       "      <th></th>\n",
       "      <th>banco</th>\n",
       "      <th>codigoBanco</th>\n",
       "      <th>agencia</th>\n",
       "      <th>valor</th>\n",
       "      <th>linhaDigitavel</th>\n",
       "      <th>classe</th>\n",
       "    </tr>\n",
       "  </thead>\n",
       "  <tbody>\n",
       "    <tr>\n",
       "      <th>0</th>\n",
       "      <td>Itaú</td>\n",
       "      <td>341</td>\n",
       "      <td>0773</td>\n",
       "      <td>890.00</td>\n",
       "      <td>34190.00000 00000.000000 00000.000000 0 000000...</td>\n",
       "      <td>caracteristicasVerdadeiras</td>\n",
       "    </tr>\n",
       "    <tr>\n",
       "      <th>1</th>\n",
       "      <td>Itaú</td>\n",
       "      <td>341</td>\n",
       "      <td>0773</td>\n",
       "      <td>467.00</td>\n",
       "      <td>34190.00000 00000.000000 00000.000000 0 000000...</td>\n",
       "      <td>caracteristicasVerdadeiras</td>\n",
       "    </tr>\n",
       "    <tr>\n",
       "      <th>2</th>\n",
       "      <td>Itaú</td>\n",
       "      <td>341</td>\n",
       "      <td>0773</td>\n",
       "      <td>230.00</td>\n",
       "      <td>34190.00000 00000.000000 00000.000000 0 000000...</td>\n",
       "      <td>caracteristicasVerdadeiras</td>\n",
       "    </tr>\n",
       "    <tr>\n",
       "      <th>3</th>\n",
       "      <td>Itaú</td>\n",
       "      <td>341</td>\n",
       "      <td>0773</td>\n",
       "      <td>986.00</td>\n",
       "      <td>34190.00000 00000.000000 00000.000000 0 000000...</td>\n",
       "      <td>caracteristicasVerdadeiras</td>\n",
       "    </tr>\n",
       "    <tr>\n",
       "      <th>4</th>\n",
       "      <td>Itaú</td>\n",
       "      <td>341</td>\n",
       "      <td>0773</td>\n",
       "      <td>766.00</td>\n",
       "      <td>34190.00000 00000.000000 00000.000000 0 000000...</td>\n",
       "      <td>caracteristicasVerdadeiras</td>\n",
       "    </tr>\n",
       "  </tbody>\n",
       "</table>\n",
       "</div>"
      ],
      "text/plain": [
       "  banco codigoBanco agencia   valor  \\\n",
       "0  Itaú         341    0773  890.00   \n",
       "1  Itaú         341    0773  467.00   \n",
       "2  Itaú         341    0773  230.00   \n",
       "3  Itaú         341    0773  986.00   \n",
       "4  Itaú         341    0773  766.00   \n",
       "\n",
       "                                      linhaDigitavel  \\\n",
       "0  34190.00000 00000.000000 00000.000000 0 000000...   \n",
       "1  34190.00000 00000.000000 00000.000000 0 000000...   \n",
       "2  34190.00000 00000.000000 00000.000000 0 000000...   \n",
       "3  34190.00000 00000.000000 00000.000000 0 000000...   \n",
       "4  34190.00000 00000.000000 00000.000000 0 000000...   \n",
       "\n",
       "                       classe  \n",
       "0  caracteristicasVerdadeiras  \n",
       "1  caracteristicasVerdadeiras  \n",
       "2  caracteristicasVerdadeiras  \n",
       "3  caracteristicasVerdadeiras  \n",
       "4  caracteristicasVerdadeiras  "
      ]
     },
     "execution_count": 55,
     "metadata": {},
     "output_type": "execute_result"
    }
   ],
   "source": [
    "with open(\"completos.json\", \"r\", encoding=\"utf-8\") as f:\n",
    "    dados = json.load(f)\n",
    "\n",
    "df = pd.DataFrame(dados)\n",
    "df.head()"
   ]
  },
  {
   "cell_type": "markdown",
   "id": "f43ec954",
   "metadata": {},
   "source": [
    "## 3. Pré-processamento dos Dados\n",
    "Realizamos o tratamento da coluna linhaDigitavel para extrair informações relevantes."
   ]
  },
  {
   "cell_type": "code",
   "execution_count": 56,
   "id": "087ff626",
   "metadata": {},
   "outputs": [
    {
     "data": {
      "text/html": [
       "<div>\n",
       "<style scoped>\n",
       "    .dataframe tbody tr th:only-of-type {\n",
       "        vertical-align: middle;\n",
       "    }\n",
       "\n",
       "    .dataframe tbody tr th {\n",
       "        vertical-align: top;\n",
       "    }\n",
       "\n",
       "    .dataframe thead th {\n",
       "        text-align: right;\n",
       "    }\n",
       "</style>\n",
       "<table border=\"1\" class=\"dataframe\">\n",
       "  <thead>\n",
       "    <tr style=\"text-align: right;\">\n",
       "      <th></th>\n",
       "      <th>banco</th>\n",
       "      <th>codigoBanco</th>\n",
       "      <th>agencia</th>\n",
       "      <th>valor</th>\n",
       "      <th>classe</th>\n",
       "      <th>linha_codBanco</th>\n",
       "      <th>linha_moeda</th>\n",
       "      <th>linha_valor</th>\n",
       "    </tr>\n",
       "  </thead>\n",
       "  <tbody>\n",
       "    <tr>\n",
       "      <th>0</th>\n",
       "      <td>Itaú</td>\n",
       "      <td>341</td>\n",
       "      <td>0773</td>\n",
       "      <td>890.00</td>\n",
       "      <td>caracteristicasVerdadeiras</td>\n",
       "      <td>341</td>\n",
       "      <td>9</td>\n",
       "      <td>0000089000</td>\n",
       "    </tr>\n",
       "    <tr>\n",
       "      <th>1</th>\n",
       "      <td>Itaú</td>\n",
       "      <td>341</td>\n",
       "      <td>0773</td>\n",
       "      <td>467.00</td>\n",
       "      <td>caracteristicasVerdadeiras</td>\n",
       "      <td>341</td>\n",
       "      <td>9</td>\n",
       "      <td>0000046700</td>\n",
       "    </tr>\n",
       "    <tr>\n",
       "      <th>2</th>\n",
       "      <td>Itaú</td>\n",
       "      <td>341</td>\n",
       "      <td>0773</td>\n",
       "      <td>230.00</td>\n",
       "      <td>caracteristicasVerdadeiras</td>\n",
       "      <td>341</td>\n",
       "      <td>9</td>\n",
       "      <td>0000023000</td>\n",
       "    </tr>\n",
       "    <tr>\n",
       "      <th>3</th>\n",
       "      <td>Itaú</td>\n",
       "      <td>341</td>\n",
       "      <td>0773</td>\n",
       "      <td>986.00</td>\n",
       "      <td>caracteristicasVerdadeiras</td>\n",
       "      <td>341</td>\n",
       "      <td>9</td>\n",
       "      <td>0000098600</td>\n",
       "    </tr>\n",
       "    <tr>\n",
       "      <th>4</th>\n",
       "      <td>Itaú</td>\n",
       "      <td>341</td>\n",
       "      <td>0773</td>\n",
       "      <td>766.00</td>\n",
       "      <td>caracteristicasVerdadeiras</td>\n",
       "      <td>341</td>\n",
       "      <td>9</td>\n",
       "      <td>0000076600</td>\n",
       "    </tr>\n",
       "  </tbody>\n",
       "</table>\n",
       "</div>"
      ],
      "text/plain": [
       "  banco codigoBanco agencia   valor                      classe  \\\n",
       "0  Itaú         341    0773  890.00  caracteristicasVerdadeiras   \n",
       "1  Itaú         341    0773  467.00  caracteristicasVerdadeiras   \n",
       "2  Itaú         341    0773  230.00  caracteristicasVerdadeiras   \n",
       "3  Itaú         341    0773  986.00  caracteristicasVerdadeiras   \n",
       "4  Itaú         341    0773  766.00  caracteristicasVerdadeiras   \n",
       "\n",
       "  linha_codBanco linha_moeda linha_valor  \n",
       "0            341           9  0000089000  \n",
       "1            341           9  0000046700  \n",
       "2            341           9  0000023000  \n",
       "3            341           9  0000098600  \n",
       "4            341           9  0000076600  "
      ]
     },
     "execution_count": 56,
     "metadata": {},
     "output_type": "execute_result"
    }
   ],
   "source": [
    "df['linhaDigitavel'] = df['linhaDigitavel'].str.replace(\" \", \"\").astype(str)\n",
    "df['linha_codBanco'] = df['linhaDigitavel'].str.slice(0, 3)\n",
    "df['linha_moeda'] = df['linhaDigitavel'].str.slice(3, 4)\n",
    "df['linha_valor'] = df['linhaDigitavel'].str.slice(-10)\n",
    "\n",
    "df.drop(columns=['linhaDigitavel'], inplace=True)\n",
    "df.head()"
   ]
  },
  {
   "cell_type": "markdown",
   "id": "29aecc3b",
   "metadata": {},
   "source": [
    "## 4. Transformação da Coluna Alvo\n",
    "Transformamos as classes textuais em valores numéricos para o modelo poder trabalhar."
   ]
  },
  {
   "cell_type": "code",
   "execution_count": 57,
   "id": "b4c6cdc8",
   "metadata": {},
   "outputs": [],
   "source": [
    "df['classe'] = df['classe'].map({\n",
    "    \"caracteristicasVerdadeiras\": 1,\n",
    "    \"caracteristicasFalsas\": 0\n",
    "})\n"
   ]
  },
  {
   "cell_type": "markdown",
   "id": "56a97f62",
   "metadata": {},
   "source": [
    "## 5. Codificação da Coluna 'banco'\n",
    "Convertendo os nomes dos bancos em números, pois o modelo só entende dados numéricos."
   ]
  },
  {
   "cell_type": "code",
   "execution_count": 58,
   "id": "12207f2f",
   "metadata": {},
   "outputs": [],
   "source": [
    "df['banco'] = df['banco'].map({\n",
    "    \"Banco do Brasil\": 0,\n",
    "    \"Itaú\": 1,\n",
    "    \"Bradesco\": 2,\n",
    "    \"Santander\": 3,\n",
    "    \"Caixa Econômica\": 4,\n",
    "})"
   ]
  },
  {
   "cell_type": "markdown",
   "id": "83a71815",
   "metadata": {},
   "source": [
    "## 6. Separação de Variáveis\n",
    "Definimos X como as variáveis independentes (features) e y como a variável alvo (classe)."
   ]
  },
  {
   "cell_type": "code",
   "execution_count": 59,
   "id": "5453b63f",
   "metadata": {},
   "outputs": [],
   "source": [
    "X = df.drop(columns=['classe'])\n",
    "y = df['classe']"
   ]
  },
  {
   "cell_type": "markdown",
   "id": "2eeebd14",
   "metadata": {},
   "source": [
    "## 7. Divisão em Treino e Teste, Treinamento e Avaliação do Modelo\n",
    "Dividimos os dados em conjunto de treino (80%) e teste (20%) para avaliar o desempenho do modelo. Treinamos o modelo usando o algoritmo Random Forest Classifier. Calculamos a acurácia e mostramos um relatório detalhado da performance do modelo."
   ]
  },
  {
   "cell_type": "code",
   "execution_count": 60,
   "id": "572b1491",
   "metadata": {},
   "outputs": [
    {
     "name": "stdout",
     "output_type": "stream",
     "text": [
      "Acurácia: 0.81\n",
      "              precision    recall  f1-score   support\n",
      "\n",
      "           0       0.91      0.72      0.80        54\n",
      "           1       0.74      0.91      0.82        46\n",
      "\n",
      "    accuracy                           0.81       100\n",
      "   macro avg       0.82      0.82      0.81       100\n",
      "weighted avg       0.83      0.81      0.81       100\n",
      "\n"
     ]
    }
   ],
   "source": [
    "X_train, X_test, y_train, y_test = train_test_split(X, y, test_size=0.2, random_state=42)\n",
    "\n",
    "model = RandomForestClassifier()\n",
    "model.fit(X_train, y_train)\n",
    "\n",
    "y_pred = model.predict(X_test)\n",
    "print(\"Acurácia:\", accuracy_score(y_test, y_pred))\n",
    "print(classification_report(y_test, y_pred))"
   ]
  },
  {
   "cell_type": "markdown",
   "id": "9e118e11",
   "metadata": {},
   "source": [
    "## 8. Salvando o Modelo\n",
    "Salvamos o modelo treinado usando a biblioteca pickle para ser usado depois no Streamlit."
   ]
  },
  {
   "cell_type": "code",
   "execution_count": 61,
   "id": "1603e6e8",
   "metadata": {},
   "outputs": [],
   "source": [
    "import pickle\n",
    "with open('modelo_boleto.pkl', 'wb') as f:\n",
    "    pickle.dump(model, f)\n"
   ]
  },
  {
   "cell_type": "markdown",
   "id": "8478cd85",
   "metadata": {},
   "source": [
    "Aqui apenas visualizamos as colunas do DataFrame e o conteúdo de uma linha para testes futuros."
   ]
  },
  {
   "cell_type": "code",
   "execution_count": 62,
   "id": "e26c2381",
   "metadata": {},
   "outputs": [
    {
     "data": {
      "text/plain": [
       "banco                      1\n",
       "codigoBanco              341\n",
       "agencia                 0773\n",
       "valor                 890.00\n",
       "classe                     1\n",
       "linha_codBanco           341\n",
       "linha_moeda                9\n",
       "linha_valor       0000089000\n",
       "Name: 0, dtype: object"
      ]
     },
     "execution_count": 62,
     "metadata": {},
     "output_type": "execute_result"
    }
   ],
   "source": [
    "df.columns\n",
    "df.iloc[0]"
   ]
  },
  {
   "cell_type": "markdown",
   "id": "69333a36",
   "metadata": {},
   "source": [
    "## 9. Aplicação com Streamlit\n",
    "### Carregando o Modelo Salvo\n",
    "Carregamos o modelo treinado para fazer predições em novos dados.\n",
    "Definimos o título que será exibido na página Streamlit.\n",
    "Criamos um exemplo de dado para realizar a predição usando o modelo carregado."
   ]
  },
  {
   "cell_type": "code",
   "execution_count": 63,
   "id": "3fc366c7",
   "metadata": {},
   "outputs": [
    {
     "name": "stderr",
     "output_type": "stream",
     "text": [
      "2025-04-27 16:00:09.373 Thread 'MainThread': missing ScriptRunContext! This warning can be ignored when running in bare mode.\n",
      "2025-04-27 16:00:09.375 Thread 'MainThread': missing ScriptRunContext! This warning can be ignored when running in bare mode.\n"
     ]
    }
   ],
   "source": [
    "import streamlit as st\n",
    "\n",
    "model = pickle.load(open('modelo_boleto.pkl', 'rb'))\n",
    "\n",
    "st.title(\"Dataset Boleto - Predição de Verdadeiro ou Falso\")\n",
    "\n",
    "dado_teste = pd.DataFrame({'banco': [1.0], 'codigoBanco': [341],'agencia': [773], 'valor': [890.00], 'linha_codBanco': [341], 'linha_moeda': [9], 'linha_valor': [89000]})\n"
   ]
  },
  {
   "cell_type": "markdown",
   "id": "b9eeba88",
   "metadata": {},
   "source": [
    "### Resultado da Predição\n",
    "Realizamos a predição e exibimos o resultado."
   ]
  },
  {
   "cell_type": "code",
   "execution_count": 64,
   "id": "c1c4d204",
   "metadata": {},
   "outputs": [
    {
     "name": "stdout",
     "output_type": "stream",
     "text": [
      "Resultado da predição para o dado teste: Verdadeiro\n"
     ]
    }
   ],
   "source": [
    "pred = model.predict(dado_teste)\n",
    "\n",
    "resultado = 'Verdadeiro' if pred[0] == 1 else 'Falso'\n",
    "print(f\"Resultado da predição para o dado teste: {resultado}\")"
   ]
  }
 ],
 "metadata": {
  "kernelspec": {
   "display_name": "venv",
   "language": "python",
   "name": "python3"
  },
  "language_info": {
   "codemirror_mode": {
    "name": "ipython",
    "version": 3
   },
   "file_extension": ".py",
   "mimetype": "text/x-python",
   "name": "python",
   "nbconvert_exporter": "python",
   "pygments_lexer": "ipython3",
   "version": "3.12.4"
  }
 },
 "nbformat": 4,
 "nbformat_minor": 5
}
