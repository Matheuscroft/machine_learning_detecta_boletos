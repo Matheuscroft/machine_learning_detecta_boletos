{
 "cells": [
  {
   "cell_type": "code",
   "execution_count": 28,
   "id": "ff02a443",
   "metadata": {},
   "outputs": [],
   "source": [
    "import pandas as pd\n",
    "from thefuzz import process\n",
    "import json"
   ]
  },
  {
   "cell_type": "code",
   "execution_count": 29,
   "id": "0c8a8d7e",
   "metadata": {},
   "outputs": [
    {
     "name": "stdout",
     "output_type": "stream",
     "text": [
      "['BANCO CENTRAL DO BRASIL - BACEN', 'Unnamed: 1', 'Unnamed: 2', 'Unnamed: 3', 'Unnamed: 4', 'Unnamed: 5', 'Unnamed: 6', 'Unnamed: 7', 'Unnamed: 8', 'Unnamed: 9', 'Unnamed: 10', 'Unnamed: 11', 'Unnamed: 12', 'Unnamed: 13', 'Unnamed: 14', 'Unnamed: 15', 'Unnamed: 16', 'Unnamed: 17', 'Unnamed: 18', 'Unnamed: 19']\n"
     ]
    }
   ],
   "source": [
    "df = pd.read_excel(\"bancos_e_agencias.xlsx\", sheet_name=0, dtype=str)\n",
    "print(df.columns.tolist())"
   ]
  },
  {
   "cell_type": "code",
   "execution_count": 30,
   "id": "1d47132a",
   "metadata": {},
   "outputs": [],
   "source": [
    "# 1) Carrega o Excel e mantém só as duas colunas desejadas\n",
    "#    Ajuste 'Sheet1' e os nomes de coluna conforme seu arquivo\n",
    "df = pd.read_excel(\"bancos_e_agencias.xlsx\", sheet_name=\"Plan1\", dtype=str)\n",
    "df = df[[\"Unnamed: 3\", \"Unnamed: 5\"]].copy()\n"
   ]
  },
  {
   "cell_type": "code",
   "execution_count": 31,
   "id": "15a84ece",
   "metadata": {},
   "outputs": [],
   "source": [
    "# 2) Limpeza básica: tira espaços em branco e normaliza caixa\n",
    "df[\"NomeBanco\"] = df[\"Unnamed: 3\"].fillna('').astype(str).str.strip().str.lower()\n",
    "df[\"Agencia\"]  = df[\"Unnamed: 5\"].str.strip()\n"
   ]
  },
  {
   "cell_type": "code",
   "execution_count": 32,
   "id": "144d9024",
   "metadata": {},
   "outputs": [
    {
     "data": {
      "text/html": [
       "<div>\n",
       "<style scoped>\n",
       "    .dataframe tbody tr th:only-of-type {\n",
       "        vertical-align: middle;\n",
       "    }\n",
       "\n",
       "    .dataframe tbody tr th {\n",
       "        vertical-align: top;\n",
       "    }\n",
       "\n",
       "    .dataframe thead th {\n",
       "        text-align: right;\n",
       "    }\n",
       "</style>\n",
       "<table border=\"1\" class=\"dataframe\">\n",
       "  <thead>\n",
       "    <tr style=\"text-align: right;\">\n",
       "      <th></th>\n",
       "      <th>Unnamed: 3</th>\n",
       "      <th>Unnamed: 5</th>\n",
       "      <th>NomeBanco</th>\n",
       "      <th>Agencia</th>\n",
       "    </tr>\n",
       "  </thead>\n",
       "  <tbody>\n",
       "    <tr>\n",
       "      <th>10</th>\n",
       "      <td>BANCO DO BRASIL S.A.                          ...</td>\n",
       "      <td>3</td>\n",
       "      <td>banco do brasil s.a.</td>\n",
       "      <td>3</td>\n",
       "    </tr>\n",
       "    <tr>\n",
       "      <th>11</th>\n",
       "      <td>BANCO DO BRASIL S.A.                          ...</td>\n",
       "      <td>4</td>\n",
       "      <td>banco do brasil s.a.</td>\n",
       "      <td>4</td>\n",
       "    </tr>\n",
       "    <tr>\n",
       "      <th>12</th>\n",
       "      <td>BANCO DO BRASIL S.A.                          ...</td>\n",
       "      <td>5</td>\n",
       "      <td>banco do brasil s.a.</td>\n",
       "      <td>5</td>\n",
       "    </tr>\n",
       "    <tr>\n",
       "      <th>13</th>\n",
       "      <td>BANCO DO BRASIL S.A.                          ...</td>\n",
       "      <td>6</td>\n",
       "      <td>banco do brasil s.a.</td>\n",
       "      <td>6</td>\n",
       "    </tr>\n",
       "    <tr>\n",
       "      <th>14</th>\n",
       "      <td>BANCO DO BRASIL S.A.                          ...</td>\n",
       "      <td>7</td>\n",
       "      <td>banco do brasil s.a.</td>\n",
       "      <td>7</td>\n",
       "    </tr>\n",
       "    <tr>\n",
       "      <th>15</th>\n",
       "      <td>BANCO DO BRASIL S.A.                          ...</td>\n",
       "      <td>8</td>\n",
       "      <td>banco do brasil s.a.</td>\n",
       "      <td>8</td>\n",
       "    </tr>\n",
       "    <tr>\n",
       "      <th>16</th>\n",
       "      <td>BANCO DO BRASIL S.A.                          ...</td>\n",
       "      <td>9</td>\n",
       "      <td>banco do brasil s.a.</td>\n",
       "      <td>9</td>\n",
       "    </tr>\n",
       "    <tr>\n",
       "      <th>17</th>\n",
       "      <td>BANCO DO BRASIL S.A.                          ...</td>\n",
       "      <td>10</td>\n",
       "      <td>banco do brasil s.a.</td>\n",
       "      <td>10</td>\n",
       "    </tr>\n",
       "    <tr>\n",
       "      <th>18</th>\n",
       "      <td>BANCO DO BRASIL S.A.                          ...</td>\n",
       "      <td>11</td>\n",
       "      <td>banco do brasil s.a.</td>\n",
       "      <td>11</td>\n",
       "    </tr>\n",
       "    <tr>\n",
       "      <th>19</th>\n",
       "      <td>BANCO DO BRASIL S.A.                          ...</td>\n",
       "      <td>12</td>\n",
       "      <td>banco do brasil s.a.</td>\n",
       "      <td>12</td>\n",
       "    </tr>\n",
       "  </tbody>\n",
       "</table>\n",
       "</div>"
      ],
      "text/plain": [
       "                                           Unnamed: 3 Unnamed: 5  \\\n",
       "10  BANCO DO BRASIL S.A.                          ...          3   \n",
       "11  BANCO DO BRASIL S.A.                          ...          4   \n",
       "12  BANCO DO BRASIL S.A.                          ...          5   \n",
       "13  BANCO DO BRASIL S.A.                          ...          6   \n",
       "14  BANCO DO BRASIL S.A.                          ...          7   \n",
       "15  BANCO DO BRASIL S.A.                          ...          8   \n",
       "16  BANCO DO BRASIL S.A.                          ...          9   \n",
       "17  BANCO DO BRASIL S.A.                          ...         10   \n",
       "18  BANCO DO BRASIL S.A.                          ...         11   \n",
       "19  BANCO DO BRASIL S.A.                          ...         12   \n",
       "\n",
       "               NomeBanco Agencia  \n",
       "10  banco do brasil s.a.       3  \n",
       "11  banco do brasil s.a.       4  \n",
       "12  banco do brasil s.a.       5  \n",
       "13  banco do brasil s.a.       6  \n",
       "14  banco do brasil s.a.       7  \n",
       "15  banco do brasil s.a.       8  \n",
       "16  banco do brasil s.a.       9  \n",
       "17  banco do brasil s.a.      10  \n",
       "18  banco do brasil s.a.      11  \n",
       "19  banco do brasil s.a.      12  "
      ]
     },
     "execution_count": 32,
     "metadata": {},
     "output_type": "execute_result"
    }
   ],
   "source": [
    "\n",
    "df.drop(index=[0,1,2,3,4,5,6,7,8,9], inplace=True)\n",
    "df.head(10)"
   ]
  },
  {
   "cell_type": "code",
   "execution_count": 33,
   "id": "96fe4217",
   "metadata": {},
   "outputs": [],
   "source": [
    "df.drop(columns=[\"Unnamed: 3\", \"Unnamed: 5\"], inplace=True)"
   ]
  },
  {
   "cell_type": "code",
   "execution_count": 35,
   "id": "96986886",
   "metadata": {},
   "outputs": [],
   "source": [
    "# 3) Carrega lista oficial de bancos (do seu bancos.json) \n",
    "with open(\"bancos.json\", encoding=\"utf-8\") as f:\n",
    "    oficiais = [nome.lower() for nome in json.load(f).keys()]"
   ]
  },
  {
   "cell_type": "code",
   "execution_count": 36,
   "id": "93e09d8e",
   "metadata": {},
   "outputs": [
    {
     "data": {
      "text/html": [
       "<div>\n",
       "<style scoped>\n",
       "    .dataframe tbody tr th:only-of-type {\n",
       "        vertical-align: middle;\n",
       "    }\n",
       "\n",
       "    .dataframe tbody tr th {\n",
       "        vertical-align: top;\n",
       "    }\n",
       "\n",
       "    .dataframe thead th {\n",
       "        text-align: right;\n",
       "    }\n",
       "</style>\n",
       "<table border=\"1\" class=\"dataframe\">\n",
       "  <thead>\n",
       "    <tr style=\"text-align: right;\">\n",
       "      <th></th>\n",
       "      <th>NomeBanco</th>\n",
       "      <th>Agencia</th>\n",
       "    </tr>\n",
       "  </thead>\n",
       "  <tbody>\n",
       "    <tr>\n",
       "      <th>10</th>\n",
       "      <td>banco do brasil s.a.</td>\n",
       "      <td>3</td>\n",
       "    </tr>\n",
       "    <tr>\n",
       "      <th>11</th>\n",
       "      <td>banco do brasil s.a.</td>\n",
       "      <td>4</td>\n",
       "    </tr>\n",
       "    <tr>\n",
       "      <th>12</th>\n",
       "      <td>banco do brasil s.a.</td>\n",
       "      <td>5</td>\n",
       "    </tr>\n",
       "    <tr>\n",
       "      <th>13</th>\n",
       "      <td>banco do brasil s.a.</td>\n",
       "      <td>6</td>\n",
       "    </tr>\n",
       "    <tr>\n",
       "      <th>14</th>\n",
       "      <td>banco do brasil s.a.</td>\n",
       "      <td>7</td>\n",
       "    </tr>\n",
       "  </tbody>\n",
       "</table>\n",
       "</div>"
      ],
      "text/plain": [
       "               NomeBanco Agencia\n",
       "10  banco do brasil s.a.       3\n",
       "11  banco do brasil s.a.       4\n",
       "12  banco do brasil s.a.       5\n",
       "13  banco do brasil s.a.       6\n",
       "14  banco do brasil s.a.       7"
      ]
     },
     "execution_count": 36,
     "metadata": {},
     "output_type": "execute_result"
    }
   ],
   "source": [
    "def match_banco(nome):\n",
    "    if not isinstance(nome, str) or not nome:\n",
    "        return None\n",
    "    match, score = process.extractOne(nome, oficiais, score_cutoff=80)\n",
    "    return match\n",
    "df.head()\n"
   ]
  },
  {
   "cell_type": "code",
   "execution_count": 37,
   "id": "11851236",
   "metadata": {},
   "outputs": [
    {
     "data": {
      "text/html": [
       "<div>\n",
       "<style scoped>\n",
       "    .dataframe tbody tr th:only-of-type {\n",
       "        vertical-align: middle;\n",
       "    }\n",
       "\n",
       "    .dataframe tbody tr th {\n",
       "        vertical-align: top;\n",
       "    }\n",
       "\n",
       "    .dataframe thead th {\n",
       "        text-align: right;\n",
       "    }\n",
       "</style>\n",
       "<table border=\"1\" class=\"dataframe\">\n",
       "  <thead>\n",
       "    <tr style=\"text-align: right;\">\n",
       "      <th></th>\n",
       "      <th>NomeBanco</th>\n",
       "      <th>Agencia</th>\n",
       "      <th>BancoOficial</th>\n",
       "    </tr>\n",
       "  </thead>\n",
       "  <tbody>\n",
       "    <tr>\n",
       "      <th>10</th>\n",
       "      <td>banco do brasil s.a.</td>\n",
       "      <td>3</td>\n",
       "      <td>banco do brasil s.a.</td>\n",
       "    </tr>\n",
       "    <tr>\n",
       "      <th>11</th>\n",
       "      <td>banco do brasil s.a.</td>\n",
       "      <td>4</td>\n",
       "      <td>banco do brasil s.a.</td>\n",
       "    </tr>\n",
       "    <tr>\n",
       "      <th>12</th>\n",
       "      <td>banco do brasil s.a.</td>\n",
       "      <td>5</td>\n",
       "      <td>banco do brasil s.a.</td>\n",
       "    </tr>\n",
       "    <tr>\n",
       "      <th>13</th>\n",
       "      <td>banco do brasil s.a.</td>\n",
       "      <td>6</td>\n",
       "      <td>banco do brasil s.a.</td>\n",
       "    </tr>\n",
       "    <tr>\n",
       "      <th>14</th>\n",
       "      <td>banco do brasil s.a.</td>\n",
       "      <td>7</td>\n",
       "      <td>banco do brasil s.a.</td>\n",
       "    </tr>\n",
       "    <tr>\n",
       "      <th>15</th>\n",
       "      <td>banco do brasil s.a.</td>\n",
       "      <td>8</td>\n",
       "      <td>banco do brasil s.a.</td>\n",
       "    </tr>\n",
       "    <tr>\n",
       "      <th>16</th>\n",
       "      <td>banco do brasil s.a.</td>\n",
       "      <td>9</td>\n",
       "      <td>banco do brasil s.a.</td>\n",
       "    </tr>\n",
       "    <tr>\n",
       "      <th>17</th>\n",
       "      <td>banco do brasil s.a.</td>\n",
       "      <td>10</td>\n",
       "      <td>banco do brasil s.a.</td>\n",
       "    </tr>\n",
       "    <tr>\n",
       "      <th>18</th>\n",
       "      <td>banco do brasil s.a.</td>\n",
       "      <td>11</td>\n",
       "      <td>banco do brasil s.a.</td>\n",
       "    </tr>\n",
       "    <tr>\n",
       "      <th>19</th>\n",
       "      <td>banco do brasil s.a.</td>\n",
       "      <td>12</td>\n",
       "      <td>banco do brasil s.a.</td>\n",
       "    </tr>\n",
       "  </tbody>\n",
       "</table>\n",
       "</div>"
      ],
      "text/plain": [
       "               NomeBanco Agencia          BancoOficial\n",
       "10  banco do brasil s.a.       3  banco do brasil s.a.\n",
       "11  banco do brasil s.a.       4  banco do brasil s.a.\n",
       "12  banco do brasil s.a.       5  banco do brasil s.a.\n",
       "13  banco do brasil s.a.       6  banco do brasil s.a.\n",
       "14  banco do brasil s.a.       7  banco do brasil s.a.\n",
       "15  banco do brasil s.a.       8  banco do brasil s.a.\n",
       "16  banco do brasil s.a.       9  banco do brasil s.a.\n",
       "17  banco do brasil s.a.      10  banco do brasil s.a.\n",
       "18  banco do brasil s.a.      11  banco do brasil s.a.\n",
       "19  banco do brasil s.a.      12  banco do brasil s.a."
      ]
     },
     "execution_count": 37,
     "metadata": {},
     "output_type": "execute_result"
    }
   ],
   "source": [
    "df['BancoOficial'] = df['NomeBanco'].apply(match_banco)\n",
    "df.head(10)"
   ]
  },
  {
   "cell_type": "code",
   "execution_count": 38,
   "id": "57efeb39",
   "metadata": {},
   "outputs": [],
   "source": [
    "df = df.dropna(subset=['BancoOficial'])"
   ]
  },
  {
   "cell_type": "code",
   "execution_count": 1,
   "id": "21f3443a",
   "metadata": {},
   "outputs": [
    {
     "ename": "NameError",
     "evalue": "name 'df' is not defined",
     "output_type": "error",
     "traceback": [
      "\u001b[31m---------------------------------------------------------------------------\u001b[39m",
      "\u001b[31mNameError\u001b[39m                                 Traceback (most recent call last)",
      "\u001b[36mCell\u001b[39m\u001b[36m \u001b[39m\u001b[32mIn[1]\u001b[39m\u001b[32m, line 2\u001b[39m\n\u001b[32m      1\u001b[39m agencias_por_banco = (\n\u001b[32m----> \u001b[39m\u001b[32m2\u001b[39m     \u001b[43mdf\u001b[49m.groupby(\u001b[33m'\u001b[39m\u001b[33mBancoOficial\u001b[39m\u001b[33m'\u001b[39m)[\u001b[33m'\u001b[39m\u001b[33mAgencia\u001b[39m\u001b[33m'\u001b[39m]\n\u001b[32m      3\u001b[39m       .apply(\u001b[38;5;28;01mlambda\u001b[39;00m s: \u001b[38;5;28msorted\u001b[39m(\u001b[38;5;28mset\u001b[39m(s)))\n\u001b[32m      4\u001b[39m       .to_dict()\n\u001b[32m      5\u001b[39m )\n\u001b[32m      6\u001b[39m df.head(\u001b[32m100\u001b[39m)\n",
      "\u001b[31mNameError\u001b[39m: name 'df' is not defined"
     ]
    }
   ],
   "source": [
    "agencias_por_banco = (\n",
    "    df.groupby('BancoOficial')['Agencia']\n",
    "      .apply(lambda s: sorted(set(s)))\n",
    "      .to_dict()\n",
    ")\n",
    "df.head(100)"
   ]
  },
  {
   "cell_type": "code",
   "execution_count": null,
   "id": "a37fcc52",
   "metadata": {},
   "outputs": [],
   "source": [
    "mask = df['Agencia'].astype(int) == 0\n",
    "df = df.drop(df[mask].index)"
   ]
  },
  {
   "cell_type": "code",
   "execution_count": null,
   "id": "3e5372aa",
   "metadata": {},
   "outputs": [],
   "source": [
    "import matplotlib.pyplot as plt"
   ]
  },
  {
   "cell_type": "code",
   "execution_count": null,
   "id": "cbb0a533",
   "metadata": {},
   "outputs": [
    {
     "data": {
      "image/png": "[encoded data removed]",
      "text/plain": [
       "<Figure size 1000x500 with 1 Axes>"
      ]
     },
     "metadata": {},
     "output_type": "display_data"
    }
   ],
   "source": [
    "top10 = counts.sort_values(ascending=False).head(10)\n",
    "plt.figure(figsize=(10,5))\n",
    "plt.bar(top10.index, top10.values)\n",
    "plt.xticks(rotation=45, ha=\"right\")\n",
    "plt.ylabel(\"Agências\")\n",
    "plt.title(\"Top 10 Bancos com Mais Agências\")\n",
    "plt.show()"
   ]
  },
  {
   "cell_type": "code",
   "execution_count": null,
   "id": "aba45f41",
   "metadata": {},
   "outputs": [],
   "source": [
    "plt.figure(figsize=(10,5))\n",
    "plt.bar(top10.index, top10.values)\n",
    "plt.xticks(rotation=45, ha=\"right\")\n",
    "plt.ylabel(\"Agências\")\n",
    "plt.title(\"Top 10 Bancos com Mais Agências\")\n",
    "plt.show()"
   ]
  },
  {
   "cell_type": "code",
   "execution_count": 1,
   "id": "a0c6ac43",
   "metadata": {},
   "outputs": [
    {
     "ename": "NameError",
     "evalue": "name 'df' is not defined",
     "output_type": "error",
     "traceback": [
      "\u001b[31m---------------------------------------------------------------------------\u001b[39m",
      "\u001b[31mNameError\u001b[39m                                 Traceback (most recent call last)",
      "\u001b[36mCell\u001b[39m\u001b[36m \u001b[39m\u001b[32mIn[1]\u001b[39m\u001b[32m, line 1\u001b[39m\n\u001b[32m----> \u001b[39m\u001b[32m1\u001b[39m mask = \u001b[43mdf\u001b[49m[\u001b[33m'\u001b[39m\u001b[33mAgencia\u001b[39m\u001b[33m'\u001b[39m].astype(\u001b[38;5;28mint\u001b[39m) == \u001b[32m0\u001b[39m\n\u001b[32m      2\u001b[39m df = df.drop(df[mask].index)\n",
      "\u001b[31mNameError\u001b[39m: name 'df' is not defined"
     ]
    }
   ],
   "source": [
    "mask = df['Agencia'].astype(int) == 0\n",
    "df = df.drop(df[mask].index)"
   ]
  },
  {
   "cell_type": "code",
   "execution_count": 50,
   "id": "45cbe2b7",
   "metadata": {},
   "outputs": [],
   "source": [
    "# 9) Salva resultados\n",
    "df[['BancoOficial','Agencia']].to_csv(\"bancos_e_Agencias.csv\", index=False)\n",
    "with open(\"agenciasEAgencias.json\",\"w\",encoding=\"utf-8\") as f:\n",
    "    json.dump(agencias_por_banco, f, indent=2, ensure_ascii=False)"
   ]
  }
 ],
 "metadata": {
  "kernelspec": {
   "display_name": ".venv",
   "language": "python",
   "name": "python3"
  },
  "language_info": {
   "codemirror_mode": {
    "name": "ipython",
    "version": 3
   },
   "file_extension": ".py",
   "mimetype": "text/x-python",
   "name": "python",
   "nbconvert_exporter": "python",
   "pygments_lexer": "ipython3",
   "version": "3.12.4"
  }
 },
 "nbformat": 4,
 "nbformat_minor": 5
}
